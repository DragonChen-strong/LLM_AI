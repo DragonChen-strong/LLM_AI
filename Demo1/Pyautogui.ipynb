{
 "cells": [
  {
   "cell_type": "code",
   "execution_count": 1,
   "id": "initial_id",
   "metadata": {
    "collapsed": true,
    "ExecuteTime": {
     "end_time": "2024-10-28T08:37:49.551735Z",
     "start_time": "2024-10-28T08:37:49.324889Z"
    }
   },
   "outputs": [
    {
     "data": {
      "text/plain": "Size(width=1920, height=1080)"
     },
     "execution_count": 1,
     "metadata": {},
     "output_type": "execute_result"
    }
   ],
   "source": [
    "import time\n",
    "\n",
    "import pyautogui\n",
    "pyautogui.size() #屏幕大小"
   ]
  },
  {
   "cell_type": "code",
   "outputs": [
    {
     "data": {
      "text/plain": "Point(x=1005, y=595)"
     },
     "execution_count": 36,
     "metadata": {},
     "output_type": "execute_result"
    }
   ],
   "source": [
    "pyautogui.position() # 鼠标位置"
   ],
   "metadata": {
    "collapsed": false,
    "ExecuteTime": {
     "end_time": "2024-10-28T09:24:27.423300Z",
     "start_time": "2024-10-28T09:24:27.408345Z"
    }
   },
   "id": "191c9e6da6719f0e",
   "execution_count": 36
  },
  {
   "cell_type": "code",
   "outputs": [],
   "source": [
    "x,y=(409,300)\n",
    "num_seconds=1\n",
    "pyautogui.moveTo(x,y,duration=num_seconds) #将鼠标移动到x,y位置"
   ],
   "metadata": {
    "collapsed": false,
    "ExecuteTime": {
     "end_time": "2024-10-28T08:51:39.436079Z",
     "start_time": "2024-10-28T08:51:38.009169Z"
    }
   },
   "id": "8f161cddf5b9e6b3",
   "execution_count": 19
  },
  {
   "cell_type": "code",
   "outputs": [],
   "source": [
    "x,y=(236,63)\n",
    "num_of_clicks=2\n",
    "secs_between_clicks=1\n",
    "pyautogui.click(x=x,y=y,clicks=num_of_clicks,interval=secs_between_clicks,button='left')"
   ],
   "metadata": {
    "collapsed": false,
    "ExecuteTime": {
     "end_time": "2024-10-28T08:57:41.604641Z",
     "start_time": "2024-10-28T08:57:39.448432Z"
    }
   },
   "id": "b4036c4b59809125",
   "execution_count": 28
  },
  {
   "cell_type": "code",
   "outputs": [
    {
     "name": "stdout",
     "output_type": "stream",
     "text": [
      "点击了，要取关公众号\n",
      "点击了 查看历史消息\n",
      "点击了 已关注\n",
      "点击了，不再关注\n"
     ]
    }
   ],
   "source": [
    "#自动化间隔，起到全局的作用\n",
    "pyautogui.PAUSE =1 \n",
    "\n",
    "def click_btn(x,y):\n",
    "    num_of_clicks=1\n",
    "    secs_between_clicks=1\n",
    "    pyautogui.click(x=x,y=y,clicks=num_of_clicks,interval=secs_between_clicks,button='left')\n",
    "\n",
    "\n",
    "\n",
    "for _ in range(3):\n",
    "    #点击'要取关公众号'\n",
    "    click_btn(355,816)\n",
    "    print(\"点击了，要取关公众号\")\n",
    "    \n",
    "    #点击'查看历史消息'\n",
    "    click_btn(582,528)\n",
    "    print(\"点击了 查看历史消息\")\n",
    "    \n",
    "    #点击'已关注'\n",
    "    click_btn(842,393)\n",
    "    print(\"点击了 已关注\")\n",
    "    \n",
    "    #点击 '不再关注'\n",
    "    click_btn(1005,595)\n",
    "    print(\"点击了，不再关注\")\n",
    "    \n",
    "    break\n",
    "    \n",
    "    \n"
   ],
   "metadata": {
    "collapsed": false,
    "ExecuteTime": {
     "end_time": "2024-10-28T09:26:28.048630Z",
     "start_time": "2024-10-28T09:26:19.938409Z"
    }
   },
   "id": "593ea735fe7405ca",
   "execution_count": 40
  }
 ],
 "metadata": {
  "kernelspec": {
   "display_name": "Python 3",
   "language": "python",
   "name": "python3"
  },
  "language_info": {
   "codemirror_mode": {
    "name": "ipython",
    "version": 2
   },
   "file_extension": ".py",
   "mimetype": "text/x-python",
   "name": "python",
   "nbconvert_exporter": "python",
   "pygments_lexer": "ipython2",
   "version": "2.7.6"
  }
 },
 "nbformat": 4,
 "nbformat_minor": 5
}
