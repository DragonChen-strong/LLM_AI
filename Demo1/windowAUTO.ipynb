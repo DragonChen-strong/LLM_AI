{
 "cells": [
  {
   "cell_type": "code",
   "execution_count": null,
   "id": "initial_id",
   "metadata": {
    "collapsed": true
   },
   "outputs": [],
   "source": [
    "import torch\n",
    "import numpy as np\n",
    "import pandas as pd\n",
    "print(torch.__version__)\n",
    "print(f\"NumPy version: {np.__version__}\")\n",
    "print(f\"PyTorch version: {torch.__version__}\")\n",
    "print(f\"CUDA available: {torch.cuda.is_available()}\")\n",
    "print(f\"CUDA version: {torch.version.cuda}\")\n",
    "print(f\"Pandas version: {pd.__version__}\")"
   ]
  },
  {
   "cell_type": "code",
   "outputs": [],
   "source": [
    "import matplotlib\n",
    "print(matplotlib.__version__)"
   ],
   "metadata": {
    "collapsed": false
   },
   "id": "368d103bbd5d3951",
   "execution_count": null
  },
  {
   "cell_type": "code",
   "outputs": [],
   "source": [
    "import matplotlib.pyplot as plt\n",
    "\n",
    "# 创建数据\n",
    "x = [1, 2, 3, 4, 5]\n",
    "y = [1, 4, 9, 16, 25]\n",
    "\n",
    "# 绘制折线图\n",
    "plt.plot(x, y)\n",
    "\n",
    "# 添加标题和标签\n",
    "plt.title('Simple Line Plot')\n",
    "plt.xlabel('X-axis')\n",
    "plt.ylabel('Y-axis')\n",
    "\n",
    "# 显示图表\n",
    "plt.show()"
   ],
   "metadata": {
    "collapsed": false
   },
   "id": "bac40531fa390185",
   "execution_count": null
  },
  {
   "cell_type": "code",
   "outputs": [],
   "source": [
    "import sklearn\n",
    "print(sklearn.__version__)"
   ],
   "metadata": {
    "collapsed": false
   },
   "id": "d754583cd4d9adf8",
   "execution_count": null
  },
  {
   "cell_type": "code",
   "outputs": [],
   "source": [
    "from sklearn.linear_model import LinearRegression\n",
    "import numpy as np\n",
    "\n",
    "# 创建数据\n",
    "X = np.array([[1], [2], [3], [4], [5]])\n",
    "y = np.array([1, 4, 9, 16, 25])\n",
    "\n",
    "# 创建线性回归模型\n",
    "model = LinearRegression()\n",
    "\n",
    "# 训练模型\n",
    "model.fit(X, y)\n",
    "\n",
    "# 预测\n",
    "predictions = model.predict(X)\n",
    "\n",
    "# 打印预测结果\n",
    "print(predictions)"
   ],
   "metadata": {
    "collapsed": false
   },
   "id": "4e0ad4ca7a36a321",
   "execution_count": null
  },
  {
   "cell_type": "code",
   "outputs": [
    {
     "ename": "AttributeError",
     "evalue": "module 'uiautomation' has no attribute 'LaunchApp'",
     "output_type": "error",
     "traceback": [
      "\u001B[1;31m---------------------------------------------------------------------------\u001B[0m",
      "\u001B[1;31mAttributeError\u001B[0m                            Traceback (most recent call last)",
      "Cell \u001B[1;32mIn[9], line 4\u001B[0m\n\u001B[0;32m      1\u001B[0m \u001B[38;5;28;01mimport\u001B[39;00m \u001B[38;5;21;01muiautomation\u001B[39;00m \u001B[38;5;28;01mas\u001B[39;00m \u001B[38;5;21;01mauto\u001B[39;00m\n\u001B[0;32m      3\u001B[0m \u001B[38;5;66;03m# 启动记事本\u001B[39;00m\n\u001B[1;32m----> 4\u001B[0m notepad \u001B[38;5;241m=\u001B[39m \u001B[43mauto\u001B[49m\u001B[38;5;241;43m.\u001B[39;49m\u001B[43mLaunchApp\u001B[49m(\u001B[38;5;124mr\u001B[39m\u001B[38;5;124m'\u001B[39m\u001B[38;5;124mnotepad.exe\u001B[39m\u001B[38;5;124m'\u001B[39m)\n\u001B[0;32m      6\u001B[0m \u001B[38;5;66;03m# 查找记事本的主窗口\u001B[39;00m\n\u001B[0;32m      7\u001B[0m notepad_window \u001B[38;5;241m=\u001B[39m auto\u001B[38;5;241m.\u001B[39mWindowControl(searchDepth\u001B[38;5;241m=\u001B[39m\u001B[38;5;241m1\u001B[39m, Name\u001B[38;5;241m=\u001B[39m\u001B[38;5;124m'\u001B[39m\u001B[38;5;124m无标题 - 记事本\u001B[39m\u001B[38;5;124m'\u001B[39m)\n",
      "\u001B[1;31mAttributeError\u001B[0m: module 'uiautomation' has no attribute 'LaunchApp'"
     ]
    }
   ],
   "source": [
    "import uiautomation as auto\n",
    "\n",
    "# 启动记事本\n",
    "notepad = auto.LaunchApp(r'notepad.exe')\n",
    "\n",
    "# 查找记事本的主窗口\n",
    "notepad_window = auto.WindowControl(searchDepth=1, Name='无标题 - 记事本')\n",
    "notepad_window.Wait(waitTime=10)  # 等待窗口出现\n",
    "\n",
    "# 激活记事本窗口\n",
    "notepad_window.SetTopmost(True)\n",
    "notepad_window.SetActive()\n",
    "\n",
    "# 在记事本中输入文本\n",
    "notepad_window.SendKeys('Hello, World!', waitTime=1)\n",
    "\n",
    "# 查找并点击“文件”菜单\n",
    "file_menu = notepad_window.MenuControl(Name='文件')\n",
    "file_menu.Click()\n",
    "\n",
    "# 查找并点击“保存”菜单项\n",
    "save_item = file_menu.MenuItemControl(Name='保存')\n",
    "save_item.Click()\n",
    "\n",
    "# 查找保存对话框\n",
    "save_dialog = auto.WindowControl(searchDepth=1, Name='另存为')\n",
    "save_dialog.Wait(waitTime=10)  # 等待对话框出现\n",
    "\n",
    "# 查找文件名输入框并输入文件名\n",
    "file_name_edit = save_dialog.EditControl(AutomationId='1001')\n",
    "file_name_edit.SendKeys('example.txt', waitTime=1)\n",
    "\n",
    "# 查找并点击“保存”按钮\n",
    "save_button = save_dialog.ButtonControl(Name='保存')\n",
    "save_button.Click()\n",
    "\n",
    "# 关闭记事本\n",
    "notepad_window.Close()"
   ],
   "metadata": {
    "collapsed": false,
    "ExecuteTime": {
     "end_time": "2024-10-28T06:03:24.316711Z",
     "start_time": "2024-10-28T06:03:24.019351Z"
    }
   },
   "id": "d51e8a286d2a8d6f",
   "execution_count": 9
  },
  {
   "cell_type": "code",
   "outputs": [],
   "source": [
    "import pkg_resources\n",
    "version = pkg_resources.get_distribution('uiautomation').version\n",
    "print(f'uiautomation version: {version}')"
   ],
   "metadata": {
    "collapsed": false
   },
   "id": "f9d533ded902f27",
   "execution_count": null
  },
  {
   "cell_type": "code",
   "outputs": [],
   "source": [
    "import asyncio  #用于并发编写代码\n",
    "import nest_asyncio\n",
    "from playwright.sync_api import sync_playwright\n",
    "# \n",
    "# # 允许嵌套事件循环\n",
    "# nest_asyncio.apply()\n",
    "# \n",
    "# def run():\n",
    "#     with sync_playwright() as p:\n",
    "#         browser = p.chromium.launch(headless=False)\n",
    "#         page = browser.new_page()\n",
    "#         page.goto('http://www.baidu.com')\n",
    "#         print(page.title())\n",
    "#         browser.close()\n",
    "# \n",
    "# if __name__ == \"__main__\":\n",
    "#     loop = asyncio.get_event_loop()\n",
    "#     loop.run_in_executor(None, run)\n",
    "\n",
    "from IPython.display import display\n",
    "\n",
    "def run_sync():\n",
    "    with sync_playwright() as p:\n",
    "        browser = p.chromium.launch(headless=False)\n",
    "        page = browser.new_page()\n",
    "        page.goto('http://www.baidu.com')\n",
    "        title = page.title()\n",
    "        display(title)\n",
    "        browser.close()"
   ],
   "metadata": {
    "collapsed": false,
    "ExecuteTime": {
     "end_time": "2024-10-28T06:03:14.797429Z",
     "start_time": "2024-10-28T06:03:14.786252Z"
    }
   },
   "id": "64ed10bef0dc60ff",
   "execution_count": 8
  }
 ],
 "metadata": {
  "kernelspec": {
   "display_name": "Python 3",
   "language": "python",
   "name": "python3"
  },
  "language_info": {
   "codemirror_mode": {
    "name": "ipython",
    "version": 2
   },
   "file_extension": ".py",
   "mimetype": "text/x-python",
   "name": "python",
   "nbconvert_exporter": "python",
   "pygments_lexer": "ipython2",
   "version": "2.7.6"
  }
 },
 "nbformat": 4,
 "nbformat_minor": 5
}
