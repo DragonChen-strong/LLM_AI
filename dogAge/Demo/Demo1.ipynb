{
 "cells": [
  {
   "cell_type": "markdown",
   "source": [
    "## 对数据增强"
   ],
   "metadata": {
    "collapsed": false
   },
   "id": "cb5cbf298d39fbab"
  },
  {
   "cell_type": "code",
   "outputs": [],
   "source": [
    "import os\n",
    "import random\n",
    "import torch\n",
    "#tensor是python中基本数据结构，类似于numpy的数组，支持并行计算\n",
    "#nn构建神经网络，包括常用的层(卷积层，全连接层，激活函数)，损失函数和模块\n",
    "from torch import nn,Tensor\n",
    "#image 进行图像创建和绘制，图像转换和图像处理\n",
    "#imageDraw 用于在图像上绘制图形，创建简单的图形\n",
    "from PIL import Image,ImageDraw\n",
    "# pytorch对图像进行常见的转换和处理，这些函数可以在图像预处理和数据增强中使用\n",
    "from torchvision.transforms import functional as F\n",
    "import numpy as np\n",
    "import cv2  #opencv可以进行图像处理，视频处理，计算机视觉(人脸检测，图像分割)\n",
    "#用于数据增强，生成更多样本提高模型的性能和鲁棒性\n",
    "#支持多种数据类型，可以处理单张图像、批量图像以及图像和其对应标签进行组合\n",
    "import imgaug.augmenters as iaa\n"
   ],
   "metadata": {
    "collapsed": false
   },
   "id": "initial_id",
   "execution_count": null
  },
  {
   "cell_type": "code",
   "outputs": [],
   "source": [
    "#组合转换类\n",
    "class Compose(object):\n",
    "        #transform 是变换数组\n",
    "        def __init__(self, transforms):\n",
    "                self.tranforms = transforms\n",
    "        \n",
    "        def __call__(self, image):\n",
    "                for t in self.tranforms:\n",
    "                        image = t(image)\n",
    "                return image\n",
    "            "
   ],
   "metadata": {
    "collapsed": false
   },
   "id": "9dddfc4f0fd01a51",
   "execution_count": null
  },
  {
   "cell_type": "code",
   "outputs": [],
   "source": [
    "#图像转为张量\n",
    "#主要目的是为了能够在深度学习框架中进行高校的计算和训练\n",
    "class ToTensor(object):\n",
    "        def __call__(self, image):\n",
    "                images=torch.tensor(image,dtype=torch.float32) #将图片转换为向量\n",
    "                #permute许多深度学习框架中在卷积神经网络要求输入数据使用(batch,channels,height,width)\n",
    "                #contiguous()把非连续张量转化为连续的张量\n",
    "                images.permute((0,3,1,2)).contiguous() \n",
    "                return images"
   ],
   "metadata": {
    "collapsed": false
   },
   "id": "2c72a7cad10f2ed4",
   "execution_count": null
  },
  {
   "cell_type": "code",
   "outputs": [],
   "source": [
    "#对输入图像进行归一化处理，改善模型的训练效果和收敛速度，消除不同特征之间的偏差，帮助模型更好的学习，避免梯度消失(解决措施：使用relu激活函数，归一化)\n",
    "#通道数就是特征数\n",
    "class Normalize(object):\n",
    "        def __init__(self, mean, std,inplace=False):\n",
    "                self.mean=mean\n",
    "                self.std=std\n",
    "                self.inplace=inplace\n",
    "        \n",
    "        def __call__(self,images):\n",
    "                for i in range(len(images)):\n",
    "                        images[i]=F.normalize(images[i],self.mean,self.std,self.inplace) #使处理后的数据更接近标准正态分布\n",
    "                return images"
   ],
   "metadata": {
    "collapsed": false
   },
   "id": "4ecf4c8495596fd5"
  },
  {
   "cell_type": "code",
   "outputs": [],
   "source": [
    "#随机水平翻转，增强训练数据的多样性\n",
    "class RandomHorizontalFlip(object):\n",
    "        def __init__(self,prob=0.5):\n",
    "                self.prob=prob\n",
    "        \n",
    "        def __call__(self,image):\n",
    "                if random.random()<self.prob:\n",
    "                        image=image.flip(-1) #在宽度方向进行反转\n",
    "                return image\n",
    "        "
   ],
   "metadata": {
    "collapsed": false
   },
   "id": "5d65991b99be62fa",
   "execution_count": null
  },
  {
   "cell_type": "code",
   "outputs": [],
   "source": [
    "#图片填充和调整大小，目的是将输入图像调整到指定大小进行填充，特别是在图像和目标检测中，以确保所有输入图像具有相同尺寸，便于批处理和模型训练\n",
    "\n"
   ],
   "metadata": {
    "collapsed": false
   },
   "id": "17169b3ca46a29f7"
  },
  {
   "cell_type": "code",
   "outputs": [
    {
     "name": "stdout",
     "output_type": "stream",
     "text": [
      "[文件]\n",
      "CompletionMessage(content='看起来您可能想要发送或讨论一个文件，但遗憾的是，作为一个文本交互的AI，我无法直接接收或查看文件。如果您有关于文件的问题或需要帮助，请用文字描述它，我会尽我所能提供帮助。', role='assistant', tool_calls=None)\n",
      "[文件]\n",
      "CompletionMessage(content='看起来您可能想要发送一个文件或者询问有关文件的问题，但遗憾的是，作为一个文本交互的AI，我无法直接接收或查看文件。如果您有关于文件的问题或者需要帮助，请用文字描述您的需求，我会尽力提供帮助。', role='assistant', tool_calls=None)\n",
      "[文件]\n",
      "CompletionMessage(content='看起来您可能想要分享一个文件或者询问有关文件的问题，但是没有文件被实际发送或附加。如果您有文件需要帮助，比如需要解读某个文件内容、需要帮助编辑或者有关于文件的其他问题，请详细描述您的需求，我会尽力提供帮助。如果需要上传文件，请确保它不包含敏感信息，并且符合相关政策和规定。由于我目前无法直接接收文件，您可以将文件内容以文本形式分享出来。', role='assistant', tool_calls=None)\n",
      "[文件]\n",
      "CompletionMessage(content='对不起，但作为一个文本和图片处理的AI，我无法接收或查看文件。如果您有具体的问题或需要信息，请直接在这里提问，我会尽我所能来帮助您。', role='assistant', tool_calls=None)\n",
      "[文件]\n",
      "CompletionMessage(content='看起来您可能想要分享一个文件，但作为一个文本交互式的AI，我无法接收或查看文件。如果您有关于文件的问题或需要帮助，请描述您的情况或询问，我会尽力提供帮助。', role='assistant', tool_calls=None)\n",
      "[文件]\n",
      "CompletionMessage(content='对不起，但作为一个文本和图像处理的AI，我无法直接接收或查看文件。如果你有具体的问题或者需要帮助的地方，欢迎你用文字描述，我会尽力提供帮助。如果需要处理文件内容，请将相关信息以文本形式提供。', role='assistant', tool_calls=None)\n",
      "[文件]\n",
      "CompletionMessage(content='看起来您可能想要发送或讨论一个文件，但遗憾的是，作为一个文本交互的AI，我无法直接接收或查看文件。如果您有关于文件的问题或需要帮助，请用文字描述您的问题或需求，我会尽我所能提供帮助。', role='assistant', tool_calls=None)\n",
      "[文件]\n",
      "CompletionMessage(content='看起来您可能想要分享一个文件，但是作为一个文本交互的AI，我无法直接接收或查看文件。如果您有关于文件的问题或者需要帮助，请描述一下文件的内容或者您需要什么样的帮助，我会尽力为您提供支持。', role='assistant', tool_calls=None)\n",
      "[文件]\n",
      "CompletionMessage(content='对不起，但作为一个文本和图片处理的AI，我无法接收或查看文件。如果你有具体的问题或需要信息，请直接在这里提问，我会尽力提供帮助。', role='assistant', tool_calls=None)\n",
      "[文件]\n",
      "CompletionMessage(content='看起来您可能想要分享一个文件，但作为一个文本交互的AI，我无法接收或查看文件。如果您有关于文件的问题或需要帮助，请描述您的情况或询问，我会尽力提供帮助。', role='assistant', tool_calls=None)\n",
      "[文件]\n",
      "CompletionMessage(content='看起来您可能想要发送或讨论一个文件，但遗憾的是，作为一个文本交互的AI，我无法直接接收或查看文件。如果您有关于文件的问题或需要帮助，请描述您的情况或问题，我会尽我所能提供帮助。', role='assistant', tool_calls=None)\n",
      "[文件]\n",
      "CompletionMessage(content='看起来您可能是想分享一个文件或者询问关于文件的问题，但是没有文件被实际上传或附在您的消息中。如果您需要帮助处理某个文件，或者有关于文件的问题需要咨询，请详细描述您的需求，我会尽力提供帮助。如果需要上传文件，请根据您使用的平台指示进行操作。在这里，由于我是一个文本交互的AI，无法直接接收文件。谢谢！', role='assistant', tool_calls=None)\n",
      "[文件]\n",
      "CompletionMessage(content='作为人工智能助手，我没有读取或接收文件的能力。如果您有关于某个话题的问题或需要帮助，请直接告诉我，我会尽力提供帮助。', role='assistant', tool_calls=None)\n",
      "[文件]\n",
      "CompletionMessage(content='看起来您可能想要发送一个文件或者询问关于文件的问题，但是没有文件被实际上传。如果您需要发送文件，请上传它，然后我会根据我的能力来帮助您。如果您有关于文件的问题或需要帮助，请详细描述您的问题，我会尽力提供帮助。', role='assistant', tool_calls=None)\n",
      "[文件]\n",
      "CompletionMessage(content='看起来您可能想要分享一个文件或者询问有关文件的问题，但是我没有收到实际的文件或详细信息。如果您需要帮助处理某个文件，请上传文件，并告诉我您需要什么样的帮助，比如文件解读、编辑建议或者相关信息查询等。如果需要保密，请确保上传的内容不包含敏感信息。我会尽我的能力为您提供帮助。', role='assistant', tool_calls=None)\n",
      "[文件]\n",
      "CompletionMessage(content='看起来您可能想要分享一个文件，但作为一个文本交互的AI，我无法直接接收或查看文件。如果您需要帮助，可以描述一下文件的内容或者您需要解决的具体问题，我会尽我所能提供帮助。', role='assistant', tool_calls=None)\n",
      "[文件]\n",
      "CompletionMessage(content='您好！由于我没有查看文件的能力，如果您有具体的问题或者需要帮助解析某个文件的内容，请直接将相关信息或问题告诉我，我会尽我的能力为您提供帮助。', role='assistant', tool_calls=None)\n",
      "[文件]\n",
      "CompletionMessage(content='对不起，但作为一个文本和图片处理的AI，我无法直接接收或处理文件。如果你有具体的问题或者需要帮助解读某些信息，请直接在这里输入或描述，我会尽力帮助你。', role='assistant', tool_calls=None)\n",
      "[文件]\n",
      "CompletionMessage(content='对不起，但作为一个文本和图片处理的AI，我无法接收或处理文件。如果你有具体的问题或需要帮助的地方，欢迎你用文字描述，我会尽力提供帮助。', role='assistant', tool_calls=None)\n",
      "[文件]\n",
      "CompletionMessage(content='看起来您可能想要分享一个文件，但作为一个文本交互式的AI，我无法直接接收或查看文件。如果您有关于文件的问题或者需要帮助，请描述一下文件的内容或者您需要解决的问题，我会尽力提供帮助。', role='assistant', tool_calls=None)\n",
      "[文件]\n",
      "CompletionMessage(content='看起来您可能想分享一个文件或者询问关于文件的问题，但是我没有收到具体的文件或问题内容。如果您需要分享文件，请您上传文件，我会尽力帮助您。如果有其他关于文件的问题，也欢迎您详细说明，我会根据情况提供相应的帮助和建议。', role='assistant', tool_calls=None)\n",
      "[文件]\n",
      "CompletionMessage(content='看起来您可能想要分享一个文件，但作为一个文本交互式的AI，我无法接收或查看文件。如果您有关于文件的问题或需要帮助，请描述您的问题或需求，我会尽力提供帮助。', role='assistant', tool_calls=None)\n",
      "[文件]\n",
      "CompletionMessage(content='看起来您可能想要分享一个文件，但是作为一个文本交互的AI，我无法直接接收或查看文件。如果您有关于文件的问题或者需要帮助，请描述一下文件的内容或者您需要解决的具体问题，我会尽力提供帮助。', role='assistant', tool_calls=None)\n",
      "[文件]\n",
      "CompletionMessage(content='看起来您可能想要发送一个文件或者询问关于文件的问题，但是我没有收到实际的文件或具体的查询内容。如果您需要帮助处理文件，请上传文件并详细描述您需要什么样的帮助。如果是关于文件的问题，请直接提问，我会尽力提供帮助。', role='assistant', tool_calls=None)\n",
      "[文件]\n",
      "CompletionMessage(content='对不起，但作为一个文本和图片处理的AI，我无法直接接收或查看文件。如果你有具体的问题或需要帮助，请直接在这里输入你的问题，我会尽力提供帮助。如果需要处理文件内容，你可以将文件内容以文本形式在这里展示，我会尽我所能为你提供支持。', role='assistant', tool_calls=None)\n",
      "[文件]\n",
      "CompletionMessage(content='看起来您可能是想分享一个文件或者询问关于文件的问题，但遗憾的是，作为一个文本交互的AI，我无法直接接收或查看文件。如果您有关于文件的问题或者需要帮助，您可以描述一下文件的内容或者您遇到的问题，我会尽力提供帮助。', role='assistant', tool_calls=None)\n",
      "[文件]\n",
      "CompletionMessage(content='对不起，但作为一个文本和图片处理的AI，我无法接收或处理文件。如果您有具体的问题或需要帮助的地方，请直接用文字描述，我会尽我所能为您提供帮助。', role='assistant', tool_calls=None)\n",
      "[文件]\n",
      "CompletionMessage(content='看起来您可能想要分享一个文件，但作为一个文本交互的AI，我无法直接接收或查看文件。如果您有关于文件的问题或需要帮助，请描述一下文件的内容或您需要解决的问题，我会尽力提供帮助。', role='assistant', tool_calls=None)\n",
      "[文件]\n",
      "CompletionMessage(content='看起来您可能想分享一个文件或者询问关于文件的问题，但是我没有收到实际的文件或详细信息。如果您需要帮助处理某个文件，请上传文件，或者描述您所遇到的问题，我会尽我的能力为您提供帮助。如果是关于文件的性质、内容或者如何处理的问题，也请详细说明，我会尽量给出合适的建议。', role='assistant', tool_calls=None)\n",
      "[文件]\n",
      "CompletionMessage(content='看起来您可能是想分享一个文件或者是询问关于文件的问题，但是没有上传文件或具体说明。如果您需要帮助处理某个文件，请上传该文件，并告诉我您需要什么样的帮助。如果是其他关于文件的问题，请详细描述您的问题，我会尽力为您提供帮助。', role='assistant', tool_calls=None)\n",
      "[文件]\n",
      "CompletionMessage(content='看起来您可能想要发送一个文件或者询问关于文件的问题，但是没有文件被实际附加或具体的问题被提出。如果您需要帮助处理某个文件，请详细描述您的需求，或者如果您想要发送一个文件，请通过适合的方式上传文件，然后告诉我您需要我怎样帮助您。如果是一个具体的问题，也请尽量详细地描述，我会尽力为您提供帮助。', role='assistant', tool_calls=None)\n",
      "[文件]\n",
      "CompletionMessage(content='对不起，但作为一个文本和图片处理的AI，我无法接收或处理文件。如果你有具体的问题或需要帮助，欢迎你用文字描述，我会尽力提供帮助。', role='assistant', tool_calls=None)\n",
      "[文件]\n",
      "CompletionMessage(content='看起来您可能想要分享一个文件，但作为一个文本交互的AI，我无法直接接收或查看文件。如果您有关于文件的问题或需要帮助，请描述您的问题或需求，我会尽力提供帮助。', role='assistant', tool_calls=None)\n",
      "[文件]\n",
      "CompletionMessage(content='您好！由于我无法直接接收或查看文件，如果您有关于某个文件的问题或需要帮助，请描述您的问题或需求，我会尽力提供帮助。如果需要处理文件内容，您可以提供文件的相关信息或内容摘要，我会根据提供的信息来给出建议。', role='assistant', tool_calls=None)\n",
      "[文件]\n",
      "CompletionMessage(content='看起来您可能想要发送或讨论一个文件。但是作为一个文本交互式的AI，我无法直接接收或查看文件。如果您有关于文件的问题或需要帮助，请用文字描述您的问题，我会尽力提供帮助。如果需要针对文件内容的具体分析，请将文件内容以文本形式分享给我（如果内容不是敏感或私有的话）。', role='assistant', tool_calls=None)\n",
      "[文件]\n",
      "CompletionMessage(content='看起来您可能想要发送或讨论一个文件。但在这个文本交互平台上，我们无法直接发送或接收文件。如果您有关于某个文件的问题，或者需要关于如何处理某个文件的建议，请尽量用文字描述您的问题或需求，我会尽力提供帮助。', role='assistant', tool_calls=None)\n",
      "[文件]\n",
      "CompletionMessage(content='看起来您可能想要分享一个文件或者询问关于文件的问题，但是我没有收到实际的文件或详细信息。如果您需要我帮助处理或解读文件，请上传文件，或者描述您所遇到的问题，我会尽力提供帮助。', role='assistant', tool_calls=None)\n"
     ]
    },
    {
     "ename": "COMError",
     "evalue": "(-2146233083, None, (None, None, None, 0, None))",
     "output_type": "error",
     "traceback": [
      "\u001B[1;31m---------------------------------------------------------------------------\u001B[0m",
      "\u001B[1;31mCOMError\u001B[0m                                  Traceback (most recent call last)",
      "Cell \u001B[1;32mIn[12], line 13\u001B[0m\n\u001B[0;32m     11\u001B[0m \u001B[38;5;28;01mwhile\u001B[39;00m \u001B[38;5;28;01mTrue\u001B[39;00m:\n\u001B[0;32m     12\u001B[0m     msg \u001B[38;5;241m=\u001B[39m session\u001B[38;5;241m.\u001B[39mTextControl(searchDepth\u001B[38;5;241m=\u001B[39m\u001B[38;5;241m4\u001B[39m)\n\u001B[1;32m---> 13\u001B[0m     \u001B[38;5;28;01mwhile\u001B[39;00m \u001B[38;5;129;01mnot\u001B[39;00m \u001B[43mmsg\u001B[49m\u001B[38;5;241;43m.\u001B[39;49m\u001B[43mExists\u001B[49m\u001B[43m(\u001B[49m\u001B[38;5;241;43m0\u001B[39;49m\u001B[43m)\u001B[49m:\n\u001B[0;32m     14\u001B[0m         \u001B[38;5;28;01mpass\u001B[39;00m\n\u001B[0;32m     15\u001B[0m     \u001B[38;5;28;01mif\u001B[39;00m msg\u001B[38;5;241m.\u001B[39mName:\n",
      "File \u001B[1;32mD:\\Applications\\conda\\envs\\python\\lib\\site-packages\\uiautomation\\uiautomation.py:6631\u001B[0m, in \u001B[0;36mControl.Exists\u001B[1;34m(self, maxSearchSeconds, searchIntervalSeconds, printIfNotExist)\u001B[0m\n\u001B[0;32m   6629\u001B[0m     startDateTime \u001B[38;5;241m=\u001B[39m datetime\u001B[38;5;241m.\u001B[39mdatetime\u001B[38;5;241m.\u001B[39mnow()\n\u001B[0;32m   6630\u001B[0m \u001B[38;5;28;01mwhile\u001B[39;00m \u001B[38;5;28;01mTrue\u001B[39;00m:\n\u001B[1;32m-> 6631\u001B[0m     control \u001B[38;5;241m=\u001B[39m \u001B[43mFindControl\u001B[49m\u001B[43m(\u001B[49m\u001B[38;5;28;43mself\u001B[39;49m\u001B[38;5;241;43m.\u001B[39;49m\u001B[43msearchFromControl\u001B[49m\u001B[43m,\u001B[49m\u001B[43m \u001B[49m\u001B[38;5;28;43mself\u001B[39;49m\u001B[38;5;241;43m.\u001B[39;49m\u001B[43m_CompareFunction\u001B[49m\u001B[43m,\u001B[49m\u001B[43m \u001B[49m\u001B[38;5;28;43mself\u001B[39;49m\u001B[38;5;241;43m.\u001B[39;49m\u001B[43msearchDepth\u001B[49m\u001B[43m,\u001B[49m\u001B[43m \u001B[49m\u001B[38;5;28;43;01mFalse\u001B[39;49;00m\u001B[43m,\u001B[49m\u001B[43m \u001B[49m\u001B[38;5;28;43mself\u001B[39;49m\u001B[38;5;241;43m.\u001B[39;49m\u001B[43mfoundIndex\u001B[49m\u001B[43m)\u001B[49m\n\u001B[0;32m   6632\u001B[0m     \u001B[38;5;28;01mif\u001B[39;00m control:\n\u001B[0;32m   6633\u001B[0m         \u001B[38;5;28mself\u001B[39m\u001B[38;5;241m.\u001B[39m_element \u001B[38;5;241m=\u001B[39m control\u001B[38;5;241m.\u001B[39mElement\n",
      "File \u001B[1;32mD:\\Applications\\conda\\envs\\python\\lib\\site-packages\\uiautomation\\uiautomation.py:8584\u001B[0m, in \u001B[0;36mFindControl\u001B[1;34m(control, compare, maxDepth, findFromSelf, foundIndex)\u001B[0m\n\u001B[0;32m   8582\u001B[0m     control \u001B[38;5;241m=\u001B[39m GetRootControl()\n\u001B[0;32m   8583\u001B[0m traverseCount \u001B[38;5;241m=\u001B[39m \u001B[38;5;241m0\u001B[39m\n\u001B[1;32m-> 8584\u001B[0m \u001B[38;5;28;01mfor\u001B[39;00m child, depth \u001B[38;5;129;01min\u001B[39;00m WalkControl(control, findFromSelf, maxDepth):\n\u001B[0;32m   8585\u001B[0m     traverseCount \u001B[38;5;241m+\u001B[39m\u001B[38;5;241m=\u001B[39m \u001B[38;5;241m1\u001B[39m\n\u001B[0;32m   8586\u001B[0m     \u001B[38;5;28;01mif\u001B[39;00m compare(child, depth):\n",
      "File \u001B[1;32mD:\\Applications\\conda\\envs\\python\\lib\\site-packages\\uiautomation\\uiautomation.py:8464\u001B[0m, in \u001B[0;36mWalkControl\u001B[1;34m(control, includeTop, maxDepth)\u001B[0m\n\u001B[0;32m   8462\u001B[0m controlList[depth] \u001B[38;5;241m=\u001B[39m child\n\u001B[0;32m   8463\u001B[0m \u001B[38;5;28;01mif\u001B[39;00m depth \u001B[38;5;241m+\u001B[39m \u001B[38;5;241m1\u001B[39m \u001B[38;5;241m<\u001B[39m maxDepth:\n\u001B[1;32m-> 8464\u001B[0m     child \u001B[38;5;241m=\u001B[39m \u001B[43mlastControl\u001B[49m\u001B[38;5;241;43m.\u001B[39;49m\u001B[43mGetFirstChildControl\u001B[49m\u001B[43m(\u001B[49m\u001B[43m)\u001B[49m\n\u001B[0;32m   8465\u001B[0m     \u001B[38;5;28;01mif\u001B[39;00m child:\n\u001B[0;32m   8466\u001B[0m         depth \u001B[38;5;241m+\u001B[39m\u001B[38;5;241m=\u001B[39m \u001B[38;5;241m1\u001B[39m\n",
      "File \u001B[1;32mD:\\Applications\\conda\\envs\\python\\lib\\site-packages\\uiautomation\\uiautomation.py:6501\u001B[0m, in \u001B[0;36mControl.GetFirstChildControl\u001B[1;34m(self)\u001B[0m\n\u001B[0;32m   6497\u001B[0m \u001B[38;5;250m\u001B[39m\u001B[38;5;124;03m\"\"\"\u001B[39;00m\n\u001B[0;32m   6498\u001B[0m \u001B[38;5;124;03mReturn `Control` subclass or None.\u001B[39;00m\n\u001B[0;32m   6499\u001B[0m \u001B[38;5;124;03m\"\"\"\u001B[39;00m\n\u001B[0;32m   6500\u001B[0m ele \u001B[38;5;241m=\u001B[39m _AutomationClient\u001B[38;5;241m.\u001B[39minstance()\u001B[38;5;241m.\u001B[39mViewWalker\u001B[38;5;241m.\u001B[39mGetFirstChildElement(\u001B[38;5;28mself\u001B[39m\u001B[38;5;241m.\u001B[39mElement)\n\u001B[1;32m-> 6501\u001B[0m \u001B[38;5;28;01mreturn\u001B[39;00m \u001B[43mControl\u001B[49m\u001B[38;5;241;43m.\u001B[39;49m\u001B[43mCreateControlFromElement\u001B[49m\u001B[43m(\u001B[49m\u001B[43mele\u001B[49m\u001B[43m)\u001B[49m\n",
      "File \u001B[1;32mD:\\Applications\\conda\\envs\\python\\lib\\site-packages\\uiautomation\\uiautomation.py:5971\u001B[0m, in \u001B[0;36mControl.CreateControlFromElement\u001B[1;34m(element)\u001B[0m\n\u001B[0;32m   5965\u001B[0m \u001B[38;5;250m\u001B[39m\u001B[38;5;124;03m\"\"\"\u001B[39;00m\n\u001B[0;32m   5966\u001B[0m \u001B[38;5;124;03mCreate a concreate `Control` from a com type `IUIAutomationElement`.\u001B[39;00m\n\u001B[0;32m   5967\u001B[0m \u001B[38;5;124;03melement: `ctypes.POINTER(IUIAutomationElement)`.\u001B[39;00m\n\u001B[0;32m   5968\u001B[0m \u001B[38;5;124;03mReturn a subclass of `Control`, an instance of the control's real type.\u001B[39;00m\n\u001B[0;32m   5969\u001B[0m \u001B[38;5;124;03m\"\"\"\u001B[39;00m\n\u001B[0;32m   5970\u001B[0m \u001B[38;5;28;01mif\u001B[39;00m element:\n\u001B[1;32m-> 5971\u001B[0m     controlType \u001B[38;5;241m=\u001B[39m \u001B[43melement\u001B[49m\u001B[38;5;241;43m.\u001B[39;49m\u001B[43mCurrentControlType\u001B[49m\n\u001B[0;32m   5972\u001B[0m     \u001B[38;5;28;01mif\u001B[39;00m controlType \u001B[38;5;129;01min\u001B[39;00m ControlConstructors:\n\u001B[0;32m   5973\u001B[0m         \u001B[38;5;28;01mreturn\u001B[39;00m ControlConstructors[controlType](element\u001B[38;5;241m=\u001B[39melement)\n",
      "\u001B[1;31mCOMError\u001B[0m: (-2146233083, None, (None, None, None, 0, None))"
     ]
    }
   ],
   "source": [
    "from uiautomation import WindowControl\n",
    "from zhipuai import ZhipuAI\n",
    "\n",
    "wx = WindowControl(Name='微信', searchDepth=1)\n",
    "print(wx)\n",
    "# 切换窗口\n",
    "wx.SwitchToThisWindow()\n",
    "# 寻找会话控件\n",
    "session = wx.ListControl(Name='会话')\n",
    "# 监听消息\n",
    "while True:\n",
    "    msg = session.TextControl(searchDepth=4)\n",
    "    while not msg.Exists(0):\n",
    "        pass\n",
    "    if msg.Name:\n",
    "        msg.Click(simulateMove=False)\n",
    "        # 获取最后一条消息\n",
    "        msg_content = wx.ListControl(Name='消息').GetChildren()[-1].Name\n",
    "        print(msg_content)\n",
    "        # 调用大模型 - 单次会话\n",
    "        client = ZhipuAI(api_key=\"b8d2755fc76e7cc087bc3422eaa6ae69.i7Txc9rS66CCwI2q\")\n",
    "        response = client.chat.completions.create(\n",
    "            model=\"glm-4\",  # 请填写您要调用的模型名称\n",
    "            messages=[\n",
    "                {\"role\": \"user\", \"content\": msg_content}\n",
    "            ],\n",
    "        )\n",
    "        print(response.choices[0].message)\n",
    "        reply = response.choices[0].message.content\n",
    "        # 替换换行符\n",
    "        wx.SendKeys(reply.replace('{br}', '{Shift}{Enter}'), waitTime=0)\n",
    "        wx.SendKeys('{Enter}', waitTime=0)\n",
    "        # 复位\n",
    "        session.Click()"
   ],
   "metadata": {
    "collapsed": false
   },
   "id": "b8afb8656dd3b727",
   "execution_count": 12
  }
 ],
 "metadata": {
  "kernelspec": {
   "display_name": "Python 3",
   "language": "python",
   "name": "python3"
  },
  "language_info": {
   "codemirror_mode": {
    "name": "ipython",
    "version": 2
   },
   "file_extension": ".py",
   "mimetype": "text/x-python",
   "name": "python",
   "nbconvert_exporter": "python",
   "pygments_lexer": "ipython2",
   "version": "2.7.6"
  }
 },
 "nbformat": 4,
 "nbformat_minor": 5
}
